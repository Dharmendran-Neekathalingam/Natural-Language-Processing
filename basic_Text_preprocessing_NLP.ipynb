{
  "nbformat": 4,
  "nbformat_minor": 0,
  "metadata": {
    "colab": {
      "provenance": [],
      "authorship_tag": "ABX9TyNH0zbns/ZzPHZCiVXrs0me",
      "include_colab_link": true
    },
    "kernelspec": {
      "name": "python3",
      "display_name": "Python 3"
    },
    "language_info": {
      "name": "python"
    }
  },
  "cells": [
    {
      "cell_type": "markdown",
      "metadata": {
        "id": "view-in-github",
        "colab_type": "text"
      },
      "source": [
        "<a href=\"https://colab.research.google.com/github/Dharmendran-Neekathalingam/Natural-Language-Processing/blob/main/basic_Text_preprocessing_NLP.ipynb\" target=\"_parent\"><img src=\"https://colab.research.google.com/assets/colab-badge.svg\" alt=\"Open In Colab\"/></a>"
      ]
    },
    {
      "cell_type": "code",
      "execution_count": 34,
      "metadata": {
        "colab": {
          "base_uri": "https://localhost:8080/"
        },
        "id": "glidnk1HxES5",
        "outputId": "f5b2ce88-afbb-4e5c-c078-4eb9b8cadd60"
      },
      "outputs": [
        {
          "output_type": "stream",
          "name": "stderr",
          "text": [
            "[nltk_data] Downloading package punkt_tab to /root/nltk_data...\n",
            "[nltk_data]   Package punkt_tab is already up-to-date!\n",
            "[nltk_data] Downloading package stopwords to /root/nltk_data...\n",
            "[nltk_data]   Package stopwords is already up-to-date!\n",
            "[nltk_data] Downloading package averaged_perceptron_tagger_eng to\n",
            "[nltk_data]     /root/nltk_data...\n",
            "[nltk_data]   Package averaged_perceptron_tagger_eng is already up-to-\n",
            "[nltk_data]       date!\n",
            "[nltk_data] Downloading package wordnet to /root/nltk_data...\n"
          ]
        },
        {
          "output_type": "execute_result",
          "data": {
            "text/plain": [
              "True"
            ]
          },
          "metadata": {},
          "execution_count": 34
        }
      ],
      "source": [
        "import nltk\n",
        "nltk.download('punkt_tab')\n",
        "nltk.download(\"stopwords\")\n",
        "nltk.download('averaged_perceptron_tagger_eng')\n",
        "nltk.download('wordnet')\n",
        "\n"
      ]
    },
    {
      "cell_type": "code",
      "source": [
        "from nltk.corpus import stopwords\n",
        "from nltk.tokenize import word_tokenize, sent_tokenize\n",
        "from nltk.stem import PorterStemmer\n",
        "from nltk.stem import WordNetLemmatizer\n",
        "import nltk\n",
        "\n",
        "#word_quote = input()\n",
        "word_quote = \"The crew of the USS Discovery discovered many discoveries. Discovering is what explorers do.\"\n",
        "\n",
        "#word Tokenizing\n",
        "words_in_quote = word_tokenize(word_quote)\n",
        "#print(words_in_quote)\n",
        "\n",
        "stop_words = set(stopwords.words(\"english\"))\n",
        "\n",
        "filtered_list = []\n",
        "\n",
        "#Stop word removing\n",
        "\n",
        "for word in words_in_quote:\n",
        "  if word.casefold() not in stop_words:\n",
        "    filtered_list.append(word)\n",
        "print(filtered_list)\n",
        "\n",
        "#Stemming the words\n",
        "stemmer = PorterStemmer()\n",
        "\n",
        "stemmed_words = [stemmer.stem(word) for word in words_in_quote]\n",
        "print(stemmed_words)\n",
        "\n",
        "#Tagging Parts of speech\n",
        "\n",
        "print(nltk.pos_tag(words_in_quote))\n",
        "\n",
        "\n",
        "#lemmatizing\n",
        "lemmatizer = WordNetLemmatizer()\n",
        "lemmatized_words = [lemmatizer.lemmatize(word) for word in words_in_quote]\n",
        "print(lemmatized_words)\n",
        "\n",
        "\n",
        "\n",
        "\n"
      ],
      "metadata": {
        "colab": {
          "base_uri": "https://localhost:8080/"
        },
        "id": "d9Foi6Vazvnm",
        "outputId": "02152f62-4d02-4493-b41c-0467abae07a4"
      },
      "execution_count": 39,
      "outputs": [
        {
          "output_type": "stream",
          "name": "stdout",
          "text": [
            "['crew', 'USS', 'Discovery', 'discovered', 'many', 'discoveries', '.', 'Discovering', 'explorers', '.']\n",
            "['the', 'crew', 'of', 'the', 'uss', 'discoveri', 'discov', 'mani', 'discoveri', '.', 'discov', 'is', 'what', 'explor', 'do', '.']\n",
            "[('The', 'DT'), ('crew', 'NN'), ('of', 'IN'), ('the', 'DT'), ('USS', 'NNP'), ('Discovery', 'NNP'), ('discovered', 'VBD'), ('many', 'JJ'), ('discoveries', 'NNS'), ('.', '.'), ('Discovering', 'NNP'), ('is', 'VBZ'), ('what', 'WP'), ('explorers', 'NNS'), ('do', 'VBP'), ('.', '.')]\n",
            "['The', 'crew', 'of', 'the', 'USS', 'Discovery', 'discovered', 'many', 'discovery', '.', 'Discovering', 'is', 'what', 'explorer', 'do', '.']\n"
          ]
        }
      ]
    },
    {
      "cell_type": "code",
      "source": [],
      "metadata": {
        "id": "Nkll7GPI7IJW"
      },
      "execution_count": null,
      "outputs": []
    }
  ]
}